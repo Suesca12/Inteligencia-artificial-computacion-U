{
 "cells": [
  {
   "cell_type": "markdown",
   "metadata": {},
   "source": [
    "#  Examen 1\n",
    "## Lema: \"Siempre hay un próximo semestre\""
   ]
  },
  {
   "cell_type": "code",
   "execution_count": 5,
   "metadata": {},
   "outputs": [],
   "source": [
    "import pandas as pd\n",
    "import numpy as np"
   ]
  },
  {
   "cell_type": "code",
   "execution_count": 7,
   "metadata": {},
   "outputs": [],
   "source": [
    "\n",
    "# Generamos datos desordenados y con problemas de calidad\n",
    "np.random.seed(42)\n",
    "num_registros = 10000\n",
    "\n",
    "edad = np.random.normal(35, 10, num_registros).astype(float)  # Usar float para permitir NaN\n",
    "edad[np.random.choice(num_registros, 200, replace=False)] = np.nan  # Introducir valores nulos\n",
    "edad[np.random.choice(num_registros, 10, replace=False)] = 120  # Introducir outliers\n",
    "\n",
    "salario = np.random.normal(4000, 1000, num_registros).astype(float)\n",
    "salario[np.random.choice(num_registros, 150, replace=False)] = np.nan\n",
    "\n",
    "experiencia = np.random.normal(5, 3, num_registros).astype(float)\n",
    "experiencia[np.random.choice(num_registros, 100, replace=False)] = np.nan\n",
    "\n",
    "educacion = np.random.choice(['Universitario', 'Secundario', 'Primario', np.nan], num_registros)\n",
    "\n",
    "# Reemplazamos valores NaN antes de calcular la probabilidad\n",
    "edad_filled = np.nan_to_num(edad, nan=np.nanmean(edad))\n",
    "salario_filled = np.nan_to_num(salario, nan=np.nanmean(salario))\n",
    "experiencia_filled = np.nan_to_num(experiencia, nan=np.nanmean(experiencia))\n",
    "\n",
    "# Generamos la variable objetivo con dependencia de otras variables\n",
    "probabilidad_aprobacion = (\n",
    "    (edad_filled / 100) + (salario_filled / 10000) + (experiencia_filled / 20) + \n",
    "    np.where(educacion == 'Universitario', 0.1, 0) + \n",
    "    np.where(educacion == 'Secundario', 0.05, 0)\n",
    ")\n",
    "\n",
    "# Asegurar valores entre 0 y 1 y manejar posibles NaN\n",
    "probabilidad_aprobacion = np.clip(np.nan_to_num(probabilidad_aprobacion, nan=0.5), 0, 1)\n",
    "\n",
    "aprobado_credito = np.random.binomial(1, probabilidad_aprobacion)"
   ]
  },
  {
   "cell_type": "code",
   "execution_count": 8,
   "metadata": {},
   "outputs": [],
   "source": [
    "\n",
    "df = pd.DataFrame({\n",
    "    'Edad': edad,\n",
    "    'Salario': salario,\n",
    "    'Experiencia': experiencia,\n",
    "    'Educacion': educacion,\n",
    "    'Aprobado_Credito': aprobado_credito\n",
    "})\n",
    "\n",
    "# Guardamos el dataset en un archivo CSV para simular la carga de datos\n",
    "df.to_csv(\"datos_desordenados.csv\", index=False)"
   ]
  },
  {
   "cell_type": "code",
   "execution_count": 9,
   "metadata": {},
   "outputs": [
    {
     "data": {
      "text/html": [
       "<div>\n",
       "<style scoped>\n",
       "    .dataframe tbody tr th:only-of-type {\n",
       "        vertical-align: middle;\n",
       "    }\n",
       "\n",
       "    .dataframe tbody tr th {\n",
       "        vertical-align: top;\n",
       "    }\n",
       "\n",
       "    .dataframe thead th {\n",
       "        text-align: right;\n",
       "    }\n",
       "</style>\n",
       "<table border=\"1\" class=\"dataframe\">\n",
       "  <thead>\n",
       "    <tr style=\"text-align: right;\">\n",
       "      <th></th>\n",
       "      <th>Edad</th>\n",
       "      <th>Salario</th>\n",
       "      <th>Experiencia</th>\n",
       "      <th>Educacion</th>\n",
       "      <th>Aprobado_Credito</th>\n",
       "    </tr>\n",
       "  </thead>\n",
       "  <tbody>\n",
       "    <tr>\n",
       "      <th>0</th>\n",
       "      <td>39.967142</td>\n",
       "      <td>4597.383423</td>\n",
       "      <td>3.853384</td>\n",
       "      <td>Primario</td>\n",
       "      <td>1</td>\n",
       "    </tr>\n",
       "    <tr>\n",
       "      <th>1</th>\n",
       "      <td>33.617357</td>\n",
       "      <td>1659.993623</td>\n",
       "      <td>6.062641</td>\n",
       "      <td>Universitario</td>\n",
       "      <td>0</td>\n",
       "    </tr>\n",
       "    <tr>\n",
       "      <th>2</th>\n",
       "      <td>41.476885</td>\n",
       "      <td>3036.380343</td>\n",
       "      <td>10.522758</td>\n",
       "      <td>Universitario</td>\n",
       "      <td>1</td>\n",
       "    </tr>\n",
       "    <tr>\n",
       "      <th>3</th>\n",
       "      <td>50.230299</td>\n",
       "      <td>1372.153006</td>\n",
       "      <td>3.044060</td>\n",
       "      <td>nan</td>\n",
       "      <td>1</td>\n",
       "    </tr>\n",
       "    <tr>\n",
       "      <th>4</th>\n",
       "      <td>32.658466</td>\n",
       "      <td>3180.079200</td>\n",
       "      <td>5.952158</td>\n",
       "      <td>nan</td>\n",
       "      <td>1</td>\n",
       "    </tr>\n",
       "  </tbody>\n",
       "</table>\n",
       "</div>"
      ],
      "text/plain": [
       "        Edad      Salario  Experiencia      Educacion  Aprobado_Credito\n",
       "0  39.967142  4597.383423     3.853384       Primario                 1\n",
       "1  33.617357  1659.993623     6.062641  Universitario                 0\n",
       "2  41.476885  3036.380343    10.522758  Universitario                 1\n",
       "3  50.230299  1372.153006     3.044060            nan                 1\n",
       "4  32.658466  3180.079200     5.952158            nan                 1"
      ]
     },
     "execution_count": 9,
     "metadata": {},
     "output_type": "execute_result"
    }
   ],
   "source": [
    "df.head()"
   ]
  },
  {
   "cell_type": "markdown",
   "metadata": {},
   "source": [
    "## 1 ¿Cuáles son los principales problemas en la calidad de los datos?\n",
    "   - a. Valores nulos\n",
    "   - b.  Datos atípicos (outliers)\n",
    "   - c . Tipos de datos inconsistentes\n",
    "   - d. Todas las anteriores"
   ]
  },
  {
   "cell_type": "markdown",
   "metadata": {},
   "source": [
    "## 2. ¿Cómo tratarías los valores nulos en la columna 'Edad'?\n",
    "   - a) Eliminar las filas con valores nulos\n",
    "   - b) Rellenar con la media de la edad\n",
    "   - c) Rellenar con la mediana de la edad\n",
    "   - d) Depende del contexto del negocio"
   ]
  },
  {
   "cell_type": "markdown",
   "metadata": {},
   "source": [
    "## 3. El valor 120 en la columna 'Edad' parece atípico. ¿Qué harías?\n",
    "   - a) Mantenerlo sin cambios\n",
    "   - b) Sustituirlo por el valor máximo razonable (ej. percentil 99)\n",
    "   - c) Eliminar la fila correspondiente\n",
    "   - d) Analizar con el equipo antes de decidir"
   ]
  },
  {
   "cell_type": "markdown",
   "metadata": {},
   "source": [
    "## 4. ¿Qué técnica usarías para convertir la columna 'Educacion' en un formato numérico para el modelo?\n",
    "   - a) One-hot encoding\n",
    "   - b) Label encoding\n",
    "   - c) Dejarlo como está\n",
    "   - d) Asignar valores manualmente\n"
   ]
  },
  {
   "cell_type": "markdown",
   "metadata": {},
   "source": [
    "## 5. Luego de la limpieza, ¿qué tipo de modelo aplicarías?\n",
    "   - a) Regresión Lineal Simple\n",
    "   - b) Regresión Lineal Múltiple\n",
    "   - c) Regresión Logística\n",
    "   - d) Depende del objetivo del análisis"
   ]
  },
  {
   "cell_type": "markdown",
   "metadata": {},
   "source": [
    "## 6. ¿Cómo evaluarías la calidad del modelo?\n",
    "   - a) Score de regresión R² para modelos lineales\n",
    "   - b) Accuracy, precisión y recall para regresión logística\n",
    "   - c) Comparación entre datos reales y predichos\n",
    "   - d) Todas las anteriores"
   ]
  },
  {
   "cell_type": "markdown",
   "metadata": {},
   "source": [
    "# Tu tarea es limpiar los datos, realizar ETL y construir un modelo (puedes elegir entre Regresión Lineal Simple, Múltiple o Logística). Evaluaremos el resultado con la métrica adecuada."
   ]
  },
  {
   "cell_type": "code",
   "execution_count": null,
   "metadata": {},
   "outputs": [],
   "source": [
    "#codigo"
   ]
  }
 ],
 "metadata": {
  "kernelspec": {
   "display_name": "Python 3",
   "language": "python",
   "name": "python3"
  },
  "language_info": {
   "codemirror_mode": {
    "name": "ipython",
    "version": 3
   },
   "file_extension": ".py",
   "mimetype": "text/x-python",
   "name": "python",
   "nbconvert_exporter": "python",
   "pygments_lexer": "ipython3",
   "version": "3.13.2"
  }
 },
 "nbformat": 4,
 "nbformat_minor": 2
}
